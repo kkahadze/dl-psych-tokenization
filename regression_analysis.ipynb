{
 "cells": [
  {
   "cell_type": "markdown",
   "id": "f76336cb",
   "metadata": {},
   "source": [
    "Reading the data and defining formulas"
   ]
  },
  {
   "cell_type": "code",
   "execution_count": 66,
   "id": "39840843",
   "metadata": {},
   "outputs": [],
   "source": [
    "baseline_data <- read.csv(\"surprisal_data/baseline_surprisal_rts.csv\")\n",
    "bpe_data <- read.csv(\"surprisal_data/bpe_surprisal_rts.csv\")\n",
    "transducer_data <- read.csv(\"surprisal_data/transducer_surprisal_rts.csv\")"
   ]
  },
  {
   "cell_type": "code",
   "execution_count": 67,
   "id": "d288df99",
   "metadata": {},
   "outputs": [],
   "source": [
    "control_formula <- 'rt ~ log_freq * word_length + prev_freq * prev_len'\n",
    "surprisal_formula <- 'rt ~ surprisal + prev_surprisal + log_freq * word_length + prev_freq * prev_len'"
   ]
  },
  {
   "cell_type": "markdown",
   "id": "d6ceb68c",
   "metadata": {},
   "source": [
    "Computing per-token $\\Delta LogLik$ from models fit to entire dataset."
   ]
  },
  {
   "cell_type": "code",
   "execution_count": 38,
   "id": "1b0a7209",
   "metadata": {},
   "outputs": [],
   "source": [
    "predictive_power <- function(data) {\n",
    "    control_model <- glm(control_formula, data, family = 'gaussian')\n",
    "    surprisal_model <- glm(surprisal_formula, data, family = 'gaussian')\n",
    "    (logLik(surprisal_model) - logLik(control_model)) / nrow(data)\n",
    "}"
   ]
  },
  {
   "cell_type": "code",
   "execution_count": 39,
   "id": "b71d8934",
   "metadata": {},
   "outputs": [
    {
     "data": {
      "text/plain": [
       "'log Lik.' 0.01034982 (df=10)"
      ]
     },
     "metadata": {},
     "output_type": "display_data"
    }
   ],
   "source": [
    "predictive_power(baseline_data)"
   ]
  },
  {
   "cell_type": "code",
   "execution_count": 40,
   "id": "e1394b49",
   "metadata": {},
   "outputs": [
    {
     "data": {
      "text/plain": [
       "'log Lik.' 0.010752 (df=10)"
      ]
     },
     "metadata": {},
     "output_type": "display_data"
    }
   ],
   "source": [
    "predictive_power(bpe_data)"
   ]
  },
  {
   "cell_type": "code",
   "execution_count": 41,
   "id": "85f167d8",
   "metadata": {},
   "outputs": [
    {
     "data": {
      "text/plain": [
       "'log Lik.' 0.01025458 (df=10)"
      ]
     },
     "metadata": {},
     "output_type": "display_data"
    }
   ],
   "source": [
    "predictive_power(transducer_data)"
   ]
  },
  {
   "cell_type": "markdown",
   "id": "74c4a774",
   "metadata": {},
   "source": [
    "This is in line with the values from Wilcox et al (2020), but there does not seem to be a major difference between the models' predictive power. \n",
    "\n",
    "These metrics are reported for the entire dataset, so we now evaluate regression models against held-out data. For each model, we now report $\\Delta LogLik$ for each run of 10-fold cross-validation."
   ]
  },
  {
   "cell_type": "code",
   "execution_count": 95,
   "id": "376f0f12",
   "metadata": {},
   "outputs": [],
   "source": [
    "test_data_loglik <- function(model, test_data) {\n",
    "    predictions <- predict(model, test_data)\n",
    "    stdev <- sigma(model)\n",
    "    dnorm(test_data$rt, predictions, stdev, log = TRUE)\n",
    "}"
   ]
  },
  {
   "cell_type": "code",
   "execution_count": 133,
   "id": "e94b75c3",
   "metadata": {},
   "outputs": [],
   "source": [
    "cross_validate <- function(data) {\n",
    "    data<-data[sample(nrow(data)),]\n",
    "    folds <- cut(seq(1,nrow(data)),breaks=10,labels=FALSE)\n",
    "    predictive_power <- seq(1:10)\n",
    "    for(i in 1:10){\n",
    "        test_indices <- which(folds==i)\n",
    "        test_data <- data[test_indices, ]\n",
    "        train_data <- data[-test_indices, ]\n",
    "        fold_control_model <- glm(control_formula, train_data, family = 'gaussian')\n",
    "        fold_surprisal_model <- glm(surprisal_formula, train_data, family = 'gaussian')\n",
    "        surprisal_diff <- test_data_loglik(fold_surprisal_model, test_data) - test_data_loglik(fold_control_model, test_data)\n",
    "        predictive_power[i] <- mean(surprisal_diff)\n",
    "        }\n",
    "    predictive_power\n",
    "}"
   ]
  },
  {
   "cell_type": "code",
   "execution_count": 168,
   "id": "08973790",
   "metadata": {},
   "outputs": [],
   "source": [
    "library(ggplot2)\n",
    "library(reshape2)"
   ]
  },
  {
   "cell_type": "code",
   "execution_count": 159,
   "id": "011acdc4",
   "metadata": {},
   "outputs": [],
   "source": [
    "cv_results <- data.frame (\n",
    "  baseline = cross_validate(baseline_data),\n",
    "    bpe = cross_validate(bpe_data),\n",
    "    transducer = cross_validate(transducer_data)\n",
    ")"
   ]
  },
  {
   "cell_type": "code",
   "execution_count": 179,
   "id": "a5f4cc66",
   "metadata": {},
   "outputs": [
    {
     "name": "stderr",
     "output_type": "stream",
     "text": [
      "No id variables; using all as measure variables\n",
      "\n"
     ]
    },
    {
     "data": {
      "text/html": [
       "<table class=\"dataframe\">\n",
       "<caption>A data.frame: 30 × 2</caption>\n",
       "<thead>\n",
       "\t<tr><th scope=col>variable</th><th scope=col>value</th></tr>\n",
       "\t<tr><th scope=col>&lt;fct&gt;</th><th scope=col>&lt;dbl&gt;</th></tr>\n",
       "</thead>\n",
       "<tbody>\n",
       "\t<tr><td>baseline  </td><td>0.014727305</td></tr>\n",
       "\t<tr><td>baseline  </td><td>0.011567786</td></tr>\n",
       "\t<tr><td>baseline  </td><td>0.011396839</td></tr>\n",
       "\t<tr><td>baseline  </td><td>0.010792934</td></tr>\n",
       "\t<tr><td>baseline  </td><td>0.005401970</td></tr>\n",
       "\t<tr><td>baseline  </td><td>0.010789446</td></tr>\n",
       "\t<tr><td>baseline  </td><td>0.012232041</td></tr>\n",
       "\t<tr><td>baseline  </td><td>0.006488994</td></tr>\n",
       "\t<tr><td>baseline  </td><td>0.011354666</td></tr>\n",
       "\t<tr><td>baseline  </td><td>0.008054632</td></tr>\n",
       "\t<tr><td>bpe       </td><td>0.012673138</td></tr>\n",
       "\t<tr><td>bpe       </td><td>0.011289578</td></tr>\n",
       "\t<tr><td>bpe       </td><td>0.008352559</td></tr>\n",
       "\t<tr><td>bpe       </td><td>0.010668640</td></tr>\n",
       "\t<tr><td>bpe       </td><td>0.005314508</td></tr>\n",
       "\t<tr><td>bpe       </td><td>0.009503936</td></tr>\n",
       "\t<tr><td>bpe       </td><td>0.010486672</td></tr>\n",
       "\t<tr><td>bpe       </td><td>0.012885745</td></tr>\n",
       "\t<tr><td>bpe       </td><td>0.014118080</td></tr>\n",
       "\t<tr><td>bpe       </td><td>0.011548791</td></tr>\n",
       "\t<tr><td>transducer</td><td>0.011096861</td></tr>\n",
       "\t<tr><td>transducer</td><td>0.011947400</td></tr>\n",
       "\t<tr><td>transducer</td><td>0.007867590</td></tr>\n",
       "\t<tr><td>transducer</td><td>0.012699498</td></tr>\n",
       "\t<tr><td>transducer</td><td>0.009370798</td></tr>\n",
       "\t<tr><td>transducer</td><td>0.006365784</td></tr>\n",
       "\t<tr><td>transducer</td><td>0.009042135</td></tr>\n",
       "\t<tr><td>transducer</td><td>0.013040532</td></tr>\n",
       "\t<tr><td>transducer</td><td>0.008968594</td></tr>\n",
       "\t<tr><td>transducer</td><td>0.011761228</td></tr>\n",
       "</tbody>\n",
       "</table>\n"
      ],
      "text/latex": [
       "A data.frame: 30 × 2\n",
       "\\begin{tabular}{ll}\n",
       " variable & value\\\\\n",
       " <fct> & <dbl>\\\\\n",
       "\\hline\n",
       "\t baseline   & 0.014727305\\\\\n",
       "\t baseline   & 0.011567786\\\\\n",
       "\t baseline   & 0.011396839\\\\\n",
       "\t baseline   & 0.010792934\\\\\n",
       "\t baseline   & 0.005401970\\\\\n",
       "\t baseline   & 0.010789446\\\\\n",
       "\t baseline   & 0.012232041\\\\\n",
       "\t baseline   & 0.006488994\\\\\n",
       "\t baseline   & 0.011354666\\\\\n",
       "\t baseline   & 0.008054632\\\\\n",
       "\t bpe        & 0.012673138\\\\\n",
       "\t bpe        & 0.011289578\\\\\n",
       "\t bpe        & 0.008352559\\\\\n",
       "\t bpe        & 0.010668640\\\\\n",
       "\t bpe        & 0.005314508\\\\\n",
       "\t bpe        & 0.009503936\\\\\n",
       "\t bpe        & 0.010486672\\\\\n",
       "\t bpe        & 0.012885745\\\\\n",
       "\t bpe        & 0.014118080\\\\\n",
       "\t bpe        & 0.011548791\\\\\n",
       "\t transducer & 0.011096861\\\\\n",
       "\t transducer & 0.011947400\\\\\n",
       "\t transducer & 0.007867590\\\\\n",
       "\t transducer & 0.012699498\\\\\n",
       "\t transducer & 0.009370798\\\\\n",
       "\t transducer & 0.006365784\\\\\n",
       "\t transducer & 0.009042135\\\\\n",
       "\t transducer & 0.013040532\\\\\n",
       "\t transducer & 0.008968594\\\\\n",
       "\t transducer & 0.011761228\\\\\n",
       "\\end{tabular}\n"
      ],
      "text/markdown": [
       "\n",
       "A data.frame: 30 × 2\n",
       "\n",
       "| variable &lt;fct&gt; | value &lt;dbl&gt; |\n",
       "|---|---|\n",
       "| baseline   | 0.014727305 |\n",
       "| baseline   | 0.011567786 |\n",
       "| baseline   | 0.011396839 |\n",
       "| baseline   | 0.010792934 |\n",
       "| baseline   | 0.005401970 |\n",
       "| baseline   | 0.010789446 |\n",
       "| baseline   | 0.012232041 |\n",
       "| baseline   | 0.006488994 |\n",
       "| baseline   | 0.011354666 |\n",
       "| baseline   | 0.008054632 |\n",
       "| bpe        | 0.012673138 |\n",
       "| bpe        | 0.011289578 |\n",
       "| bpe        | 0.008352559 |\n",
       "| bpe        | 0.010668640 |\n",
       "| bpe        | 0.005314508 |\n",
       "| bpe        | 0.009503936 |\n",
       "| bpe        | 0.010486672 |\n",
       "| bpe        | 0.012885745 |\n",
       "| bpe        | 0.014118080 |\n",
       "| bpe        | 0.011548791 |\n",
       "| transducer | 0.011096861 |\n",
       "| transducer | 0.011947400 |\n",
       "| transducer | 0.007867590 |\n",
       "| transducer | 0.012699498 |\n",
       "| transducer | 0.009370798 |\n",
       "| transducer | 0.006365784 |\n",
       "| transducer | 0.009042135 |\n",
       "| transducer | 0.013040532 |\n",
       "| transducer | 0.008968594 |\n",
       "| transducer | 0.011761228 |\n",
       "\n"
      ],
      "text/plain": [
       "   variable   value      \n",
       "1  baseline   0.014727305\n",
       "2  baseline   0.011567786\n",
       "3  baseline   0.011396839\n",
       "4  baseline   0.010792934\n",
       "5  baseline   0.005401970\n",
       "6  baseline   0.010789446\n",
       "7  baseline   0.012232041\n",
       "8  baseline   0.006488994\n",
       "9  baseline   0.011354666\n",
       "10 baseline   0.008054632\n",
       "11 bpe        0.012673138\n",
       "12 bpe        0.011289578\n",
       "13 bpe        0.008352559\n",
       "14 bpe        0.010668640\n",
       "15 bpe        0.005314508\n",
       "16 bpe        0.009503936\n",
       "17 bpe        0.010486672\n",
       "18 bpe        0.012885745\n",
       "19 bpe        0.014118080\n",
       "20 bpe        0.011548791\n",
       "21 transducer 0.011096861\n",
       "22 transducer 0.011947400\n",
       "23 transducer 0.007867590\n",
       "24 transducer 0.012699498\n",
       "25 transducer 0.009370798\n",
       "26 transducer 0.006365784\n",
       "27 transducer 0.009042135\n",
       "28 transducer 0.013040532\n",
       "29 transducer 0.008968594\n",
       "30 transducer 0.011761228"
      ]
     },
     "metadata": {},
     "output_type": "display_data"
    }
   ],
   "source": [
    "melt(cv_results)"
   ]
  },
  {
   "cell_type": "code",
   "execution_count": 182,
   "id": "64f03f7e",
   "metadata": {},
   "outputs": [
    {
     "name": "stderr",
     "output_type": "stream",
     "text": [
      "No id variables; using all as measure variables\n",
      "\n"
     ]
    },
    {
     "data": {
      "image/png": "[encoded data removed]",
      "text/plain": [
       "plot without title"
      ]
     },
     "metadata": {
      "image/png": {
       "height": 420,
       "width": 420
      }
     },
     "output_type": "display_data"
    }
   ],
   "source": [
    "ggplot(melt(cv_results))+ geom_boxplot(aes(x = variable, y = value, color = variable)) + labs(y=\"predictive power\",\n",
    "                                                                            x = \"tokenization scheme\")"
   ]
  },
  {
   "cell_type": "code",
   "execution_count": null,
   "id": "1757fc18",
   "metadata": {},
   "outputs": [],
   "source": []
  }
 ],
 "metadata": {
  "kernelspec": {
   "display_name": "R",
   "language": "R",
   "name": "ir"
  },
  "language_info": {
   "codemirror_mode": "r",
   "file_extension": ".r",
   "mimetype": "text/x-r-source",
   "name": "R",
   "pygments_lexer": "r",
   "version": "4.0.2"
  }
 },
 "nbformat": 4,
 "nbformat_minor": 5
}
