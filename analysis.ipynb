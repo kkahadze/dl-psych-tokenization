{
 "cells": [
  {
   "cell_type": "markdown",
   "id": "9effa2d9",
   "metadata": {},
   "source": [
    "### Data Prep"
   ]
  },
  {
   "cell_type": "markdown",
   "id": "026bd168",
   "metadata": {},
   "source": [
    "Loading the token-wise surprisals, aligning them with the word-level RTs, and computing predictors. Length & log frequency are control predictors, and we also add the previous token's surprisal, length, and frequency to control for spill-over effects. Exclude OOV items and items before/after punctuation/non-alphabetical tokens."
   ]
  },
  {
   "cell_type": "code",
   "execution_count": 1,
   "id": "4cc1415b",
   "metadata": {},
   "outputs": [],
   "source": [
    "import pandas as pd\n",
    "from src.tokenization_analysis import *"
   ]
  },
  {
   "cell_type": "code",
   "execution_count": 2,
   "id": "55d5d988",
   "metadata": {},
   "outputs": [
    {
     "name": "stderr",
     "output_type": "stream",
     "text": [
      "/Users/sathvik/anaconda3/envs/token/lib/python3.7/site-packages/ipykernel_launcher.py:2: FutureWarning: The default value of regex will change from True to False in a future version.\n",
      "  \n"
     ]
    }
   ],
   "source": [
    "rts = pd.read_csv(\"dundee_rts_v1.csv\")\n",
    "rts[\"token\"] = rts[\"token\"].str.replace('[^\\w\\s]','')\n",
    "rts['token'].replace('', np.nan, inplace=True)\n",
    "rts = rts.dropna()\n",
    "baseline = pd.read_csv(\"surprisal_data/v1/baseline.csv\")\n",
    "bpe = pd.read_csv(\"surprisal_data/v1/bpe.csv\")"
   ]
  },
  {
   "cell_type": "code",
   "execution_count": 3,
   "id": "04d4a63c",
   "metadata": {},
   "outputs": [],
   "source": [
    "baseline_rts = combine_data(rts, baseline)\n",
    "baseline_rts = generate_predictors(baseline_rts)\n",
    "baseline_rts = baseline_rts[(~baseline_rts['oov']) & (~baseline_rts['exclude_rt'])]"
   ]
  },
  {
   "cell_type": "code",
   "execution_count": 4,
   "id": "034a8b90",
   "metadata": {},
   "outputs": [],
   "source": [
    "bpe_rts = combine_data(rts, bpe, word_boundary = 'Ġ')\n",
    "bpe_rts = generate_predictors(bpe_rts)\n",
    "bpe_rts = bpe_rts[(~bpe_rts['oov']) & (~bpe_rts['exclude_rt'])]"
   ]
  },
  {
   "cell_type": "code",
   "execution_count": 5,
   "id": "dfa57ce1",
   "metadata": {},
   "outputs": [
    {
     "data": {
      "text/html": [
       "<div>\n",
       "<style scoped>\n",
       "    .dataframe tbody tr th:only-of-type {\n",
       "        vertical-align: middle;\n",
       "    }\n",
       "\n",
       "    .dataframe tbody tr th {\n",
       "        vertical-align: top;\n",
       "    }\n",
       "\n",
       "    .dataframe thead th {\n",
       "        text-align: right;\n",
       "    }\n",
       "</style>\n",
       "<table border=\"1\" class=\"dataframe\">\n",
       "  <thead>\n",
       "    <tr style=\"text-align: right;\">\n",
       "      <th></th>\n",
       "      <th>token</th>\n",
       "      <th>transcript_id</th>\n",
       "      <th>sentence_id</th>\n",
       "      <th>surprisal</th>\n",
       "      <th>oov</th>\n",
       "      <th>rt</th>\n",
       "      <th>token_uid</th>\n",
       "      <th>exclude_rt</th>\n",
       "      <th>word_length</th>\n",
       "      <th>log_freq</th>\n",
       "      <th>word</th>\n",
       "      <th>prev_freq</th>\n",
       "      <th>prev_len</th>\n",
       "      <th>prev_surprisal</th>\n",
       "    </tr>\n",
       "  </thead>\n",
       "  <tbody>\n",
       "    <tr>\n",
       "      <th>1</th>\n",
       "      <td>renaissance</td>\n",
       "      <td>13</td>\n",
       "      <td>0</td>\n",
       "      <td>14.074871</td>\n",
       "      <td>False</td>\n",
       "      <td>396.400000</td>\n",
       "      <td>1</td>\n",
       "      <td>0</td>\n",
       "      <td>11</td>\n",
       "      <td>-4.735928</td>\n",
       "      <td>renaissance</td>\n",
       "      <td>-2.218148</td>\n",
       "      <td>3.0</td>\n",
       "      <td>4.532436</td>\n",
       "    </tr>\n",
       "    <tr>\n",
       "      <th>2</th>\n",
       "      <td>in</td>\n",
       "      <td>13</td>\n",
       "      <td>0</td>\n",
       "      <td>5.865422</td>\n",
       "      <td>False</td>\n",
       "      <td>163.250000</td>\n",
       "      <td>2</td>\n",
       "      <td>0</td>\n",
       "      <td>2</td>\n",
       "      <td>-2.043987</td>\n",
       "      <td>in</td>\n",
       "      <td>-4.735928</td>\n",
       "      <td>11.0</td>\n",
       "      <td>14.074871</td>\n",
       "    </tr>\n",
       "    <tr>\n",
       "      <th>5</th>\n",
       "      <td>is</td>\n",
       "      <td>13</td>\n",
       "      <td>0</td>\n",
       "      <td>4.915674</td>\n",
       "      <td>False</td>\n",
       "      <td>185.000000</td>\n",
       "      <td>5</td>\n",
       "      <td>0</td>\n",
       "      <td>2</td>\n",
       "      <td>-2.223688</td>\n",
       "      <td>is</td>\n",
       "      <td>-4.142604</td>\n",
       "      <td>10.0</td>\n",
       "      <td>16.665718</td>\n",
       "    </tr>\n",
       "    <tr>\n",
       "      <th>6</th>\n",
       "      <td>turning</td>\n",
       "      <td>13</td>\n",
       "      <td>0</td>\n",
       "      <td>11.586292</td>\n",
       "      <td>False</td>\n",
       "      <td>326.777778</td>\n",
       "      <td>6</td>\n",
       "      <td>0</td>\n",
       "      <td>7</td>\n",
       "      <td>-4.133627</td>\n",
       "      <td>turning</td>\n",
       "      <td>-2.223688</td>\n",
       "      <td>2.0</td>\n",
       "      <td>4.915674</td>\n",
       "    </tr>\n",
       "    <tr>\n",
       "      <th>7</th>\n",
       "      <td>out</td>\n",
       "      <td>13</td>\n",
       "      <td>0</td>\n",
       "      <td>2.945987</td>\n",
       "      <td>False</td>\n",
       "      <td>186.800000</td>\n",
       "      <td>7</td>\n",
       "      <td>0</td>\n",
       "      <td>3</td>\n",
       "      <td>-2.792071</td>\n",
       "      <td>out</td>\n",
       "      <td>-4.133627</td>\n",
       "      <td>7.0</td>\n",
       "      <td>11.586292</td>\n",
       "    </tr>\n",
       "    <tr>\n",
       "      <th>...</th>\n",
       "      <td>...</td>\n",
       "      <td>...</td>\n",
       "      <td>...</td>\n",
       "      <td>...</td>\n",
       "      <td>...</td>\n",
       "      <td>...</td>\n",
       "      <td>...</td>\n",
       "      <td>...</td>\n",
       "      <td>...</td>\n",
       "      <td>...</td>\n",
       "      <td>...</td>\n",
       "      <td>...</td>\n",
       "      <td>...</td>\n",
       "      <td>...</td>\n",
       "    </tr>\n",
       "    <tr>\n",
       "      <th>51223</th>\n",
       "      <td>architectural</td>\n",
       "      <td>16</td>\n",
       "      <td>107</td>\n",
       "      <td>17.207958</td>\n",
       "      <td>False</td>\n",
       "      <td>360.166667</td>\n",
       "      <td>51493</td>\n",
       "      <td>0</td>\n",
       "      <td>13</td>\n",
       "      <td>-4.773027</td>\n",
       "      <td>architectural</td>\n",
       "      <td>-4.088652</td>\n",
       "      <td>6.0</td>\n",
       "      <td>12.387107</td>\n",
       "    </tr>\n",
       "    <tr>\n",
       "      <th>51226</th>\n",
       "      <td>the</td>\n",
       "      <td>16</td>\n",
       "      <td>107</td>\n",
       "      <td>2.257757</td>\n",
       "      <td>False</td>\n",
       "      <td>708.000000</td>\n",
       "      <td>51496</td>\n",
       "      <td>0</td>\n",
       "      <td>3</td>\n",
       "      <td>-2.218148</td>\n",
       "      <td>the</td>\n",
       "      <td>-5.416809</td>\n",
       "      <td>7.0</td>\n",
       "      <td>21.874280</td>\n",
       "    </tr>\n",
       "    <tr>\n",
       "      <th>51227</th>\n",
       "      <td>slick</td>\n",
       "      <td>16</td>\n",
       "      <td>107</td>\n",
       "      <td>15.827176</td>\n",
       "      <td>False</td>\n",
       "      <td>292.666667</td>\n",
       "      <td>51497</td>\n",
       "      <td>0</td>\n",
       "      <td>5</td>\n",
       "      <td>-4.786134</td>\n",
       "      <td>slick</td>\n",
       "      <td>-2.218148</td>\n",
       "      <td>3.0</td>\n",
       "      <td>2.257757</td>\n",
       "    </tr>\n",
       "    <tr>\n",
       "      <th>51228</th>\n",
       "      <td>with</td>\n",
       "      <td>16</td>\n",
       "      <td>107</td>\n",
       "      <td>5.806637</td>\n",
       "      <td>False</td>\n",
       "      <td>189.428571</td>\n",
       "      <td>51498</td>\n",
       "      <td>0</td>\n",
       "      <td>4</td>\n",
       "      <td>-2.335966</td>\n",
       "      <td>with</td>\n",
       "      <td>-4.786134</td>\n",
       "      <td>5.0</td>\n",
       "      <td>15.827176</td>\n",
       "    </tr>\n",
       "    <tr>\n",
       "      <th>51229</th>\n",
       "      <td>the</td>\n",
       "      <td>16</td>\n",
       "      <td>107</td>\n",
       "      <td>4.007113</td>\n",
       "      <td>False</td>\n",
       "      <td>234.200000</td>\n",
       "      <td>51499</td>\n",
       "      <td>0</td>\n",
       "      <td>3</td>\n",
       "      <td>-2.218148</td>\n",
       "      <td>the</td>\n",
       "      <td>-2.335966</td>\n",
       "      <td>4.0</td>\n",
       "      <td>5.806637</td>\n",
       "    </tr>\n",
       "  </tbody>\n",
       "</table>\n",
       "<p>36278 rows × 14 columns</p>\n",
       "</div>"
      ],
      "text/plain": [
       "               token  transcript_id  sentence_id  surprisal    oov  \\\n",
       "1        renaissance             13            0  14.074871  False   \n",
       "2                 in             13            0   5.865422  False   \n",
       "5                 is             13            0   4.915674  False   \n",
       "6            turning             13            0  11.586292  False   \n",
       "7                out             13            0   2.945987  False   \n",
       "...              ...            ...          ...        ...    ...   \n",
       "51223  architectural             16          107  17.207958  False   \n",
       "51226            the             16          107   2.257757  False   \n",
       "51227          slick             16          107  15.827176  False   \n",
       "51228           with             16          107   5.806637  False   \n",
       "51229            the             16          107   4.007113  False   \n",
       "\n",
       "               rt  token_uid  exclude_rt  word_length  log_freq  \\\n",
       "1      396.400000          1           0           11 -4.735928   \n",
       "2      163.250000          2           0            2 -2.043987   \n",
       "5      185.000000          5           0            2 -2.223688   \n",
       "6      326.777778          6           0            7 -4.133627   \n",
       "7      186.800000          7           0            3 -2.792071   \n",
       "...           ...        ...         ...          ...       ...   \n",
       "51223  360.166667      51493           0           13 -4.773027   \n",
       "51226  708.000000      51496           0            3 -2.218148   \n",
       "51227  292.666667      51497           0            5 -4.786134   \n",
       "51228  189.428571      51498           0            4 -2.335966   \n",
       "51229  234.200000      51499           0            3 -2.218148   \n",
       "\n",
       "                word  prev_freq  prev_len  prev_surprisal  \n",
       "1        renaissance  -2.218148       3.0        4.532436  \n",
       "2                 in  -4.735928      11.0       14.074871  \n",
       "5                 is  -4.142604      10.0       16.665718  \n",
       "6            turning  -2.223688       2.0        4.915674  \n",
       "7                out  -4.133627       7.0       11.586292  \n",
       "...              ...        ...       ...             ...  \n",
       "51223  architectural  -4.088652       6.0       12.387107  \n",
       "51226            the  -5.416809       7.0       21.874280  \n",
       "51227          slick  -2.218148       3.0        2.257757  \n",
       "51228           with  -4.786134       5.0       15.827176  \n",
       "51229            the  -2.335966       4.0        5.806637  \n",
       "\n",
       "[36278 rows x 14 columns]"
      ]
     },
     "execution_count": 5,
     "metadata": {},
     "output_type": "execute_result"
    }
   ],
   "source": [
    "bpe_rts"
   ]
  },
  {
   "cell_type": "code",
   "execution_count": 6,
   "id": "66083ca1",
   "metadata": {},
   "outputs": [
    {
     "data": {
      "text/html": [
       "<div>\n",
       "<style scoped>\n",
       "    .dataframe tbody tr th:only-of-type {\n",
       "        vertical-align: middle;\n",
       "    }\n",
       "\n",
       "    .dataframe tbody tr th {\n",
       "        vertical-align: top;\n",
       "    }\n",
       "\n",
       "    .dataframe thead th {\n",
       "        text-align: right;\n",
       "    }\n",
       "</style>\n",
       "<table border=\"1\" class=\"dataframe\">\n",
       "  <thead>\n",
       "    <tr style=\"text-align: right;\">\n",
       "      <th></th>\n",
       "      <th>token</th>\n",
       "      <th>transcript_id</th>\n",
       "      <th>sentence_id</th>\n",
       "      <th>surprisal</th>\n",
       "      <th>oov</th>\n",
       "      <th>rt</th>\n",
       "      <th>token_uid</th>\n",
       "      <th>exclude_rt</th>\n",
       "      <th>word_length</th>\n",
       "      <th>log_freq</th>\n",
       "      <th>word</th>\n",
       "      <th>prev_freq</th>\n",
       "      <th>prev_len</th>\n",
       "      <th>prev_surprisal</th>\n",
       "    </tr>\n",
       "  </thead>\n",
       "  <tbody>\n",
       "    <tr>\n",
       "      <th>1</th>\n",
       "      <td>renaissance</td>\n",
       "      <td>13</td>\n",
       "      <td>0</td>\n",
       "      <td>13.994410</td>\n",
       "      <td>False</td>\n",
       "      <td>396.400000</td>\n",
       "      <td>1</td>\n",
       "      <td>0</td>\n",
       "      <td>11</td>\n",
       "      <td>-4.735928</td>\n",
       "      <td>renaissance</td>\n",
       "      <td>-2.218148</td>\n",
       "      <td>3.0</td>\n",
       "      <td>4.531791</td>\n",
       "    </tr>\n",
       "    <tr>\n",
       "      <th>2</th>\n",
       "      <td>in</td>\n",
       "      <td>13</td>\n",
       "      <td>0</td>\n",
       "      <td>5.909969</td>\n",
       "      <td>False</td>\n",
       "      <td>163.250000</td>\n",
       "      <td>2</td>\n",
       "      <td>0</td>\n",
       "      <td>2</td>\n",
       "      <td>-2.043987</td>\n",
       "      <td>in</td>\n",
       "      <td>-4.735928</td>\n",
       "      <td>11.0</td>\n",
       "      <td>13.994410</td>\n",
       "    </tr>\n",
       "    <tr>\n",
       "      <th>5</th>\n",
       "      <td>is</td>\n",
       "      <td>13</td>\n",
       "      <td>0</td>\n",
       "      <td>4.846577</td>\n",
       "      <td>False</td>\n",
       "      <td>185.000000</td>\n",
       "      <td>5</td>\n",
       "      <td>0</td>\n",
       "      <td>2</td>\n",
       "      <td>-2.223688</td>\n",
       "      <td>is</td>\n",
       "      <td>-4.142604</td>\n",
       "      <td>10.0</td>\n",
       "      <td>14.905993</td>\n",
       "    </tr>\n",
       "    <tr>\n",
       "      <th>6</th>\n",
       "      <td>turning</td>\n",
       "      <td>13</td>\n",
       "      <td>0</td>\n",
       "      <td>11.551354</td>\n",
       "      <td>False</td>\n",
       "      <td>326.777778</td>\n",
       "      <td>6</td>\n",
       "      <td>0</td>\n",
       "      <td>7</td>\n",
       "      <td>-4.133627</td>\n",
       "      <td>turning</td>\n",
       "      <td>-2.223688</td>\n",
       "      <td>2.0</td>\n",
       "      <td>4.846577</td>\n",
       "    </tr>\n",
       "    <tr>\n",
       "      <th>7</th>\n",
       "      <td>out</td>\n",
       "      <td>13</td>\n",
       "      <td>0</td>\n",
       "      <td>2.951636</td>\n",
       "      <td>False</td>\n",
       "      <td>186.800000</td>\n",
       "      <td>7</td>\n",
       "      <td>0</td>\n",
       "      <td>3</td>\n",
       "      <td>-2.792071</td>\n",
       "      <td>out</td>\n",
       "      <td>-4.133627</td>\n",
       "      <td>7.0</td>\n",
       "      <td>11.551354</td>\n",
       "    </tr>\n",
       "    <tr>\n",
       "      <th>...</th>\n",
       "      <td>...</td>\n",
       "      <td>...</td>\n",
       "      <td>...</td>\n",
       "      <td>...</td>\n",
       "      <td>...</td>\n",
       "      <td>...</td>\n",
       "      <td>...</td>\n",
       "      <td>...</td>\n",
       "      <td>...</td>\n",
       "      <td>...</td>\n",
       "      <td>...</td>\n",
       "      <td>...</td>\n",
       "      <td>...</td>\n",
       "      <td>...</td>\n",
       "    </tr>\n",
       "    <tr>\n",
       "      <th>51223</th>\n",
       "      <td>architectural</td>\n",
       "      <td>16</td>\n",
       "      <td>107</td>\n",
       "      <td>17.199008</td>\n",
       "      <td>False</td>\n",
       "      <td>360.166667</td>\n",
       "      <td>51493</td>\n",
       "      <td>0</td>\n",
       "      <td>13</td>\n",
       "      <td>-4.773027</td>\n",
       "      <td>architectural</td>\n",
       "      <td>-4.088652</td>\n",
       "      <td>6.0</td>\n",
       "      <td>12.466434</td>\n",
       "    </tr>\n",
       "    <tr>\n",
       "      <th>51226</th>\n",
       "      <td>the</td>\n",
       "      <td>16</td>\n",
       "      <td>107</td>\n",
       "      <td>2.560108</td>\n",
       "      <td>False</td>\n",
       "      <td>708.000000</td>\n",
       "      <td>51496</td>\n",
       "      <td>0</td>\n",
       "      <td>3</td>\n",
       "      <td>-2.218148</td>\n",
       "      <td>the</td>\n",
       "      <td>-5.416809</td>\n",
       "      <td>7.0</td>\n",
       "      <td>19.933248</td>\n",
       "    </tr>\n",
       "    <tr>\n",
       "      <th>51227</th>\n",
       "      <td>slick</td>\n",
       "      <td>16</td>\n",
       "      <td>107</td>\n",
       "      <td>16.012193</td>\n",
       "      <td>False</td>\n",
       "      <td>292.666667</td>\n",
       "      <td>51497</td>\n",
       "      <td>0</td>\n",
       "      <td>5</td>\n",
       "      <td>-4.786134</td>\n",
       "      <td>slick</td>\n",
       "      <td>-2.218148</td>\n",
       "      <td>3.0</td>\n",
       "      <td>2.560108</td>\n",
       "    </tr>\n",
       "    <tr>\n",
       "      <th>51228</th>\n",
       "      <td>with</td>\n",
       "      <td>16</td>\n",
       "      <td>107</td>\n",
       "      <td>5.929988</td>\n",
       "      <td>False</td>\n",
       "      <td>189.428571</td>\n",
       "      <td>51498</td>\n",
       "      <td>0</td>\n",
       "      <td>4</td>\n",
       "      <td>-2.335966</td>\n",
       "      <td>with</td>\n",
       "      <td>-4.786134</td>\n",
       "      <td>5.0</td>\n",
       "      <td>16.012193</td>\n",
       "    </tr>\n",
       "    <tr>\n",
       "      <th>51229</th>\n",
       "      <td>the</td>\n",
       "      <td>16</td>\n",
       "      <td>107</td>\n",
       "      <td>3.968484</td>\n",
       "      <td>False</td>\n",
       "      <td>234.200000</td>\n",
       "      <td>51499</td>\n",
       "      <td>0</td>\n",
       "      <td>3</td>\n",
       "      <td>-2.218148</td>\n",
       "      <td>the</td>\n",
       "      <td>-2.335966</td>\n",
       "      <td>4.0</td>\n",
       "      <td>5.929988</td>\n",
       "    </tr>\n",
       "  </tbody>\n",
       "</table>\n",
       "<p>36278 rows × 14 columns</p>\n",
       "</div>"
      ],
      "text/plain": [
       "               token  transcript_id  sentence_id  surprisal    oov  \\\n",
       "1        renaissance             13            0  13.994410  False   \n",
       "2                 in             13            0   5.909969  False   \n",
       "5                 is             13            0   4.846577  False   \n",
       "6            turning             13            0  11.551354  False   \n",
       "7                out             13            0   2.951636  False   \n",
       "...              ...            ...          ...        ...    ...   \n",
       "51223  architectural             16          107  17.199008  False   \n",
       "51226            the             16          107   2.560108  False   \n",
       "51227          slick             16          107  16.012193  False   \n",
       "51228           with             16          107   5.929988  False   \n",
       "51229            the             16          107   3.968484  False   \n",
       "\n",
       "               rt  token_uid  exclude_rt  word_length  log_freq  \\\n",
       "1      396.400000          1           0           11 -4.735928   \n",
       "2      163.250000          2           0            2 -2.043987   \n",
       "5      185.000000          5           0            2 -2.223688   \n",
       "6      326.777778          6           0            7 -4.133627   \n",
       "7      186.800000          7           0            3 -2.792071   \n",
       "...           ...        ...         ...          ...       ...   \n",
       "51223  360.166667      51493           0           13 -4.773027   \n",
       "51226  708.000000      51496           0            3 -2.218148   \n",
       "51227  292.666667      51497           0            5 -4.786134   \n",
       "51228  189.428571      51498           0            4 -2.335966   \n",
       "51229  234.200000      51499           0            3 -2.218148   \n",
       "\n",
       "                word  prev_freq  prev_len  prev_surprisal  \n",
       "1        renaissance  -2.218148       3.0        4.531791  \n",
       "2                 in  -4.735928      11.0       13.994410  \n",
       "5                 is  -4.142604      10.0       14.905993  \n",
       "6            turning  -2.223688       2.0        4.846577  \n",
       "7                out  -4.133627       7.0       11.551354  \n",
       "...              ...        ...       ...             ...  \n",
       "51223  architectural  -4.088652       6.0       12.466434  \n",
       "51226            the  -5.416809       7.0       19.933248  \n",
       "51227          slick  -2.218148       3.0        2.560108  \n",
       "51228           with  -4.786134       5.0       16.012193  \n",
       "51229            the  -2.335966       4.0        5.929988  \n",
       "\n",
       "[36278 rows x 14 columns]"
      ]
     },
     "execution_count": 6,
     "metadata": {},
     "output_type": "execute_result"
    }
   ],
   "source": [
    "baseline_rts"
   ]
  },
  {
   "cell_type": "markdown",
   "id": "3b7abefb",
   "metadata": {},
   "source": [
    "After excluding OOV items, the baseline dataset has many more tokens. This should make sure we are looking at the same experimental datapoints for each model."
   ]
  },
  {
   "cell_type": "code",
   "execution_count": 7,
   "id": "a92890cb",
   "metadata": {},
   "outputs": [],
   "source": [
    "baseline_rts = baseline_rts[baseline_rts['token_uid'].isin(bpe_rts['token_uid'])]"
   ]
  },
  {
   "cell_type": "markdown",
   "id": "8f9fb20b",
   "metadata": {},
   "source": [
    "Making sure the same tokens are in each dataframe"
   ]
  },
  {
   "cell_type": "code",
   "execution_count": 8,
   "id": "4b9ce37a",
   "metadata": {},
   "outputs": [
    {
     "data": {
      "text/plain": [
       "True"
      ]
     },
     "execution_count": 8,
     "metadata": {},
     "output_type": "execute_result"
    }
   ],
   "source": [
    "sum(baseline_rts['token_uid'].values == bpe_rts['token_uid'].values) == len(baseline_rts.index)"
   ]
  },
  {
   "cell_type": "markdown",
   "id": "bd7b56a2",
   "metadata": {},
   "source": [
    "### Exploring differences in surprisal distributions"
   ]
  },
  {
   "cell_type": "code",
   "execution_count": 9,
   "id": "23257ef4",
   "metadata": {},
   "outputs": [],
   "source": [
    "import seaborn as sns\n",
    "import matplotlib.pyplot as plt"
   ]
  },
  {
   "cell_type": "code",
   "execution_count": 11,
   "id": "bfb49922",
   "metadata": {},
   "outputs": [
    {
     "data": {
      "text/plain": [
       "Text(0.5, 0, 'Surprisal')"
      ]
     },
     "execution_count": 11,
     "metadata": {},
     "output_type": "execute_result"
    },
    {
     "data": {
      "image/png": "[encoded data removed]",
      "text/plain": [
       "<Figure size 640x480 with 1 Axes>"
      ]
     },
     "metadata": {},
     "output_type": "display_data"
    }
   ],
   "source": [
    "sns.kdeplot(bpe_rts['surprisal'], label = 'bpe')\n",
    "sns.kdeplot(baseline_rts['surprisal'], label = 'baseline')\n",
    "plt.title(\"distributions of surprisal\")\n",
    "plt.legend()\n",
    "plt.xlabel(\"Surprisal\")"
   ]
  },
  {
   "cell_type": "markdown",
   "id": "42344d1c",
   "metadata": {},
   "source": [
    "The `entropy` function in Scipy computes KL-divergence between distributions"
   ]
  },
  {
   "cell_type": "code",
   "execution_count": 12,
   "id": "e895cfdf",
   "metadata": {},
   "outputs": [],
   "source": [
    "from scipy.stats import entropy"
   ]
  },
  {
   "cell_type": "code",
   "execution_count": 14,
   "id": "97012643",
   "metadata": {},
   "outputs": [
    {
     "data": {
      "text/plain": [
       "0.0019146557068106564"
      ]
     },
     "execution_count": 14,
     "metadata": {},
     "output_type": "execute_result"
    }
   ],
   "source": [
    "entropy(bpe_rts['surprisal'], baseline_rts['surprisal'])"
   ]
  },
  {
   "cell_type": "markdown",
   "id": "814c9aad",
   "metadata": {},
   "source": [
    "### Regression"
   ]
  },
  {
   "cell_type": "code",
   "execution_count": 15,
   "id": "658f81b9",
   "metadata": {},
   "outputs": [],
   "source": [
    "from rpy2 import robjects\n",
    "from rpy2.robjects.packages import importr\n",
    "from rpy2.robjects import pandas2ri\n",
    "stats = importr('stats')\n",
    "base = importr('base')\n",
    "pandas2ri.activate()\n",
    "\n",
    "R = robjects.r"
   ]
  },
  {
   "cell_type": "markdown",
   "id": "c2e9fb1d",
   "metadata": {},
   "source": [
    "For each tokenization scheme, we fit a control model predicting reading time with the length and frequency predictors, and then a model incorporating the surprisal"
   ]
  },
  {
   "cell_type": "markdown",
   "id": "86dd83aa",
   "metadata": {},
   "source": [
    "Fitting the baseline models"
   ]
  },
  {
   "cell_type": "code",
   "execution_count": 16,
   "id": "73e80ed6",
   "metadata": {},
   "outputs": [],
   "source": [
    "control_formula = 'rt ~ log_freq * word_length + prev_freq * prev_len'\n",
    "control_baseline_model = R.lm(control_formula, data=baseline_rts)"
   ]
  },
  {
   "cell_type": "code",
   "execution_count": 17,
   "id": "3fc35b4b",
   "metadata": {},
   "outputs": [],
   "source": [
    "surprisal_baseline_formula = 'rt ~ surprisal + prev_surprisal + log_freq * word_length + prev_freq * prev_len'\n",
    "surprisal_baseline_model = R.lm(surprisal_baseline_formula, data=baseline_rts)"
   ]
  },
  {
   "cell_type": "markdown",
   "id": "799549c9",
   "metadata": {},
   "source": [
    "Coefficients for the current and previous tokens' surprisal"
   ]
  },
  {
   "cell_type": "code",
   "execution_count": 18,
   "id": "1871d232",
   "metadata": {
    "scrolled": true
   },
   "outputs": [
    {
     "data": {
      "text/plain": [
       "array([2.31867732, 2.14175588])"
      ]
     },
     "execution_count": 18,
     "metadata": {},
     "output_type": "execute_result"
    }
   ],
   "source": [
    "surprisal_baseline_model.rx2('coefficients')[1:3]"
   ]
  },
  {
   "cell_type": "code",
   "execution_count": 19,
   "id": "15ed513f",
   "metadata": {},
   "outputs": [
    {
     "data": {
      "text/plain": [
       "226.4360619004493"
      ]
     },
     "execution_count": 19,
     "metadata": {},
     "output_type": "execute_result"
    }
   ],
   "source": [
    "surprisal_baseline_model.rx2('coefficients')[0]"
   ]
  },
  {
   "cell_type": "markdown",
   "id": "751b0d2b",
   "metadata": {},
   "source": [
    "$\\Delta LogLik$ for the baseline model "
   ]
  },
  {
   "cell_type": "code",
   "execution_count": 20,
   "id": "22f24d9a",
   "metadata": {
    "scrolled": false
   },
   "outputs": [
    {
     "data": {
      "text/plain": [
       "array([374.4858224])"
      ]
     },
     "execution_count": 20,
     "metadata": {},
     "output_type": "execute_result"
    }
   ],
   "source": [
    "R.logLik(surprisal_baseline_model) - R.logLik(control_baseline_model)"
   ]
  },
  {
   "cell_type": "markdown",
   "id": "41beac57",
   "metadata": {},
   "source": [
    "Fitting the models for the BPE-tokenized data"
   ]
  },
  {
   "cell_type": "code",
   "execution_count": 21,
   "id": "e771ef98",
   "metadata": {},
   "outputs": [],
   "source": [
    "control_bpe_model = R.lm(control_formula, data=bpe_rts)\n",
    "surprisal_bpe_model = R.lm(surprisal_baseline_formula, data=bpe_rts)"
   ]
  },
  {
   "cell_type": "markdown",
   "id": "0cf5f7eb",
   "metadata": {},
   "source": [
    "$\\Delta LogLik$ for the baseline model "
   ]
  },
  {
   "cell_type": "code",
   "execution_count": 22,
   "id": "7894284b",
   "metadata": {
    "scrolled": true
   },
   "outputs": [
    {
     "data": {
      "text/plain": [
       "array([389.07798])"
      ]
     },
     "execution_count": 22,
     "metadata": {},
     "output_type": "execute_result"
    }
   ],
   "source": [
    "R.logLik(surprisal_bpe_model) - R.logLik(control_bpe_model)"
   ]
  },
  {
   "cell_type": "markdown",
   "id": "e7600cfe",
   "metadata": {},
   "source": [
    "Coefficients for the current and previous tokens' surprisal"
   ]
  },
  {
   "cell_type": "code",
   "execution_count": 23,
   "id": "9501dfd2",
   "metadata": {},
   "outputs": [
    {
     "data": {
      "text/plain": [
       "array([2.41482646, 2.06836694])"
      ]
     },
     "execution_count": 23,
     "metadata": {},
     "output_type": "execute_result"
    }
   ],
   "source": [
    "surprisal_bpe_model.rx2('coefficients')[1:3]"
   ]
  },
  {
   "cell_type": "markdown",
   "id": "073bf9d1",
   "metadata": {},
   "source": [
    "The predictors look consistent with those of Goodkind & Bicknell(2018). Although there looked like there were major differences in the $\\Delta LogLik$, their training corpora were larger. They also used a GAM instead of linear regression. Wilcox et al (2020) computed $\\Delta LogLik$ per token under linear regression models. Our values here are consistent with their reported values for 5-gram models trained on the medium and large BLLIP corpora(0.01 - 0.015). They, however, reported averaged values for models with 10-fold cross validation. This would be the right thing to do for the final analysis."
   ]
  },
  {
   "cell_type": "code",
   "execution_count": 24,
   "id": "52affe17",
   "metadata": {},
   "outputs": [
    {
     "data": {
      "text/plain": [
       "array([0.01032267])"
      ]
     },
     "execution_count": 24,
     "metadata": {},
     "output_type": "execute_result"
    }
   ],
   "source": [
    "(R.logLik(surprisal_baseline_model) - R.logLik(control_baseline_model)) / len(bpe_rts.index)"
   ]
  },
  {
   "cell_type": "code",
   "execution_count": 25,
   "id": "bd26cd45",
   "metadata": {},
   "outputs": [
    {
     "data": {
      "text/plain": [
       "array([0.0107249])"
      ]
     },
     "execution_count": 25,
     "metadata": {},
     "output_type": "execute_result"
    }
   ],
   "source": [
    "(R.logLik(surprisal_bpe_model) - R.logLik(control_bpe_model)) / len(bpe_rts.index)"
   ]
  },
  {
   "cell_type": "markdown",
   "id": "5fd54a28",
   "metadata": {},
   "source": [
    "This tells us that surprisal under a BPE-tokenized model was a slightly better predictor of RT data than the baseline model. Next steps would be to see if a model with a morphologically-informed tokenizer does better."
   ]
  }
 ],
 "metadata": {
  "kernelspec": {
   "display_name": "Python [conda env:token] *",
   "language": "python",
   "name": "conda-env-token-py"
  },
  "language_info": {
   "codemirror_mode": {
    "name": "ipython",
    "version": 3
   },
   "file_extension": ".py",
   "mimetype": "text/x-python",
   "name": "python",
   "nbconvert_exporter": "python",
   "pygments_lexer": "ipython3",
   "version": "3.7.16"
  }
 },
 "nbformat": 4,
 "nbformat_minor": 5
}
